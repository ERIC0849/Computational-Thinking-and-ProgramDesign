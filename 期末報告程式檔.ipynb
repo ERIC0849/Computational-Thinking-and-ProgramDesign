{
  "nbformat": 4,
  "nbformat_minor": 0,
  "metadata": {
    "colab": {
      "name": "Untitled13.ipynb",
      "provenance": [],
      "collapsed_sections": [],
      "authorship_tag": "ABX9TyPyfaS99cvHmxKuBHLNE8Qj",
      "include_colab_link": true
    },
    "kernelspec": {
      "name": "python3",
      "display_name": "Python 3"
    }
  },
  "cells": [
    {
      "cell_type": "markdown",
      "metadata": {
        "id": "view-in-github",
        "colab_type": "text"
      },
      "source": [
        "<a href=\"https://colab.research.google.com/github/ERIC0849/Computational-Thinking-and-ProgramDesign/blob/master/%E6%9C%9F%E6%9C%AB%E5%A0%B1%E5%91%8A%E7%A8%8B%E5%BC%8F%E6%AA%94.ipynb\" target=\"_parent\"><img src=\"https://colab.research.google.com/assets/colab-badge.svg\" alt=\"Open In Colab\"/></a>"
      ]
    },
    {
      "cell_type": "code",
      "metadata": {
        "id": "VNOnA2i80VTq",
        "colab_type": "code",
        "colab": {
          "base_uri": "https://localhost:8080/",
          "height": 564
        },
        "outputId": "5af23295-c3ae-425f-f00b-cdcda757c2ea"
      },
      "source": [
        "n=0\n",
        "while n<3:\n",
        "  print(\"歡迎光臨,我是您的點餐機器人Amy\")\n",
        "  n=n+1\n",
        "print(\"請問你的名字是?\")\n",
        "name=input(\"我的名字是\")\n",
        "Serve=input(\"今天想什麼服務呢?\")\n",
        "if Serve==\"呼叫櫃台人員\":\n",
        "  print(\"正在為您撥打電話,請稍後...\")\n",
        "else:\n",
        " print(\"我們沒有這項服務喔!\") \n",
        "serve=input(\"需要點餐服務嗎? \")\n",
        "if serve==\"好\":\n",
        "  print(\"我們的餐點有:鮪魚壽司定貫 鮭魚壽司定貫 菲力牛排套餐 銀雪香煎套餐 黑松板豬套餐 嫩煎雞排套餐 什錦五蔬套餐 嫩烤羊腿套餐 鹽烤秋刀魚套餐 沙朗牛排套餐以上套餐均附前菜（沙拉或餐包或醃漬梅）、湯（洋蔥湯或蘑菇濃湯）、甜品（紅豆麻糬或紫泥芋球）\")\n",
        "food=\"鮭魚壽司定貫\"\n",
        "print(\"我的餐點是\", food)\n",
        "if food==\"鮭魚壽司定貫\":\n",
        "    print(\"不好意思喔！鮭魚還在海裡游抓不到,我幫你推薦您點菲力牛排套餐！\")\n",
        "else:\n",
        " print(\"客人您別鬧\")\n",
        "print(\"好!!!吧!\") \n",
        "steak=input(\"主人菲力要幾分熟呢？\") \n",
        "print(name,\"我看你氣色不好，可以幫你前菜點生菜沙拉好嗎？\")\n",
        "print(\"好!謝謝\")\n",
        "print(\"我們沙拉有:海鮮沙拉 生菜沙拉 雞肉沙拉\")\n",
        "salad=\"海鮮沙拉\"\n",
        "print(\"我的沙拉要\",salad)\n",
        "if salad==\"雞肉沙拉\":\n",
        "    print(\"雞肉太老嘞因為是老母雞\")\n",
        "elif salad==\"海鮮沙拉\":\n",
        "   print(\"好的沒問題!\")\n",
        "else:\n",
        " print(\"吃菜就好\") \n",
        "sauce=input(\"那你需要什麼醬呢？\")\n",
        "if sauce==\"和風醬\":\n",
        "    print(\"很日式呢!\")\n",
        "elif sauce==\"胡麻醬\" : \n",
        "     print(\"很胡麻呢!\")  \n",
        "else:\n",
        "  print(\"啊醬沒了！沒關係吃原味就好\") \n",
        "soup=input(\"好喔主人！那湯品有洋蔥湯和蘑菇濃湯要哪一種呢？\")\n",
        "if soup==\"洋蔥湯\":\n",
        "    print(\"不好意思洋蔥剩一點，我幫你加洋蔥圈，味道也有洋蔥味，差不多啦！\")\n",
        "else:\n",
        " print(\"好的\") \n",
        "dessert=input(\"那最後甜點有紅豆麻糬跟紫泥芋球，請問要哪款呢？\")\n",
        "if dessert==\"紫泥芋球\":\n",
        "     print(\"好的！\", name, \"紫泥芋球要儘快吃，不然會融化，就不好吃了！\")  \n",
        "else:\n",
        "  print(\"紅豆跟麻糬很搭呢!\")     \n",
        "print(\"了解\") \n",
        "print(name,\"您的餐點,總共1487元\")\n",
        "print(\"期待\",name, \"下次光臨您的光顧，是我們的感動，啾咪！\")\n",
        "print(\"真的會感動，因爲我不用再來了\")\n",
        "\n",
        "n=0\n",
        "while  n <3 :\n",
        "     print (\"謝謝惠顧，我是您的點餐機器人Amy\")\n",
        "     n=n+1   "
      ],
      "execution_count": 1,
      "outputs": [
        {
          "output_type": "stream",
          "text": [
            "歡迎光臨,我是您的點餐機器人Amy\n",
            "歡迎光臨,我是您的點餐機器人Amy\n",
            "歡迎光臨,我是您的點餐機器人Amy\n",
            "請問你的名字是?\n",
            "我的名字是Eric\n",
            "今天想什麼服務呢?想和主廚談話\n",
            "我們沒有這項服務喔!\n",
            "需要點餐服務嗎? 好\n",
            "我們的餐點有:鮪魚壽司定貫 鮭魚壽司定貫 菲力牛排套餐 銀雪香煎套餐 黑松板豬套餐 嫩煎雞排套餐 什錦五蔬套餐 嫩烤羊腿套餐 鹽烤秋刀魚套餐 沙朗牛排套餐以上套餐均附前菜（沙拉或餐包或醃漬梅）、湯（洋蔥湯或蘑菇濃湯）、甜品（紅豆麻糬或紫泥芋球）\n",
            "我的餐點是 鮭魚壽司定貫\n",
            "不好意思喔！鮭魚還在海裡游抓不到,我幫你推薦您點菲力牛排套餐！\n",
            "好!!!吧!\n",
            "主人菲力要幾分熟呢？五分熟\n",
            "Eric 我看你氣色不好，可以幫你前菜點生菜沙拉好嗎？\n",
            "好!謝謝\n",
            "我們沙拉有:海鮮沙拉 生菜沙拉 雞肉沙拉\n",
            "我的沙拉要 海鮮沙拉\n",
            "好的沒問題!\n",
            "那你需要什麼醬呢？凱薩醬\n",
            "啊醬沒了！沒關係吃原味就好\n",
            "好喔主人！那湯品有洋蔥湯和蘑菇濃湯要哪一種呢？洋蔥湯\n",
            "不好意思洋蔥剩一點，我幫你加洋蔥圈，味道也有洋蔥味，差不多啦！\n",
            "那最後甜點有紅豆麻糬跟紫泥芋球，請問要哪款呢？紫泥芋球\n",
            "好的！ Eric 紫泥芋球要儘快吃，不然會融化，就不好吃了！\n",
            "了解\n",
            "Eric 您的餐點,總共1487元\n",
            "期待 Eric 下次光臨您的光顧，是我們的感動，啾咪！\n",
            "真的會感動，因爲我不用再來了\n",
            "謝謝惠顧，我是您的點餐機器人Amy\n",
            "謝謝惠顧，我是您的點餐機器人Amy\n",
            "謝謝惠顧，我是您的點餐機器人Amy\n"
          ],
          "name": "stdout"
        }
      ]
    }
  ]
}